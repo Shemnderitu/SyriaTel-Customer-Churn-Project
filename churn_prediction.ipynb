{
 "cells": [
  {
   "cell_type": "markdown",
   "id": "2afab8c5",
   "metadata": {},
   "source": [
    "# SyriaTel Customer Churn Project"
   ]
  },
  {
   "cell_type": "markdown",
   "id": "c9975226",
   "metadata": {},
   "source": [
    "## Overview\n",
    "This project seeks to predict customer churn for SyriaTel using historical usage and customer service data. By leveraging classification models, we aim to detect patterns that distinguish churners from loyal customers. The end goal is to empower the business with proactive strategies to reduce churn and retain high-value customers. The full machine learning lifecycle is followed—from problem framing and data exploration to model development and business recommendations."
   ]
  },
  {
   "cell_type": "markdown",
   "id": "651754eb",
   "metadata": {},
   "source": [
    "## Business Understanding\n",
    "#### Problem statement\n",
    "SyriaTel wants to understand and reduce customer churn. The company needs a way to identify customers who are likely to leave so that appropriate interventions can be applied (e.g. loyalty programs, special offers).\n",
    "#### Stakeholders:\n",
    "- Retention and Marketing Teams: need precise predictions to launch targeted retention campaigns.\n",
    "\n",
    "- Executives: seek KPIs around churn mitigation and revenue protection.\n",
    "#### Success Criteria: \n",
    "- High recall and precision for identifying churners.\n",
    "- Interpretability to ensure actionable strategies.\n",
    "- Practical business recommendations derived from model output."
   ]
  },
  {
   "cell_type": "markdown",
   "id": "3602ac5b",
   "metadata": {},
   "source": [
    "## Data Understanding\n",
    "The dataset includes 3,333 customers with features such as:\n",
    "\n",
    "- Demographics: state, area code\n",
    "\n",
    "- Service details: international plan, voice mail plan\n",
    "\n",
    "- Usage metrics: daily, evening, night, and international minutes, calls, and charges\n",
    "\n",
    "- Support history: number of customer service calls\n",
    "\n",
    "- Target variable: churn (binary)\n",
    "\n",
    "#### Initial Observations:\n",
    "\n",
    "- Class imbalance: Majority class is non-churners (~86%)\n",
    "\n",
    "- Potential multicollinearity: minutes and charges are highly correlated\n",
    "\n",
    "- Some features (e.g. phone number) are identifiers and not predictive\n",
    "\n"
   ]
  },
  {
   "cell_type": "markdown",
   "id": "75fdcf6e",
   "metadata": {},
   "source": [
    "## Data Preparation\n",
    "#### Steps Taken:\n",
    "\n",
    "1. Encoding:\n",
    "\n",
    "- Binary features like international plan and voice mail plan are encoded into 0/1.\n",
    "\n",
    "- The state column is label-encoded to numeric form.\n",
    "\n",
    "2. Cleaning:\n",
    "\n",
    "- Dropped phone number as it has no predictive value.\n",
    "\n",
    "- Checked and confirmed no missing values.\n",
    "\n",
    "3. Feature Engineering & Multicollinearity Check:\n",
    "\n",
    "- Decided to retain either minutes or charges columns (not both).\n",
    "\n",
    "- Considered aggregating call counts and charges into summaries.\n",
    "\n",
    "4. Class Imbalance Handling:\n",
    "\n",
    "- Used SMOTE to balance the training dataset.\n",
    "\n",
    "5. Scaling:\n",
    "\n",
    "- Applied StandardScaler for algorithms sensitive to magnitude (e.g., Logistic Regression, SVM)."
   ]
  },
  {
   "cell_type": "markdown",
   "id": "16bf338d",
   "metadata": {},
   "source": [
    "## Modeling\n",
    "Models used were selected for both performance and interpretability:\n",
    "\n",
    "1. ### Baseline Model\n",
    "##### Logistic Regression:\n",
    "\n",
    "- Simple, interpretable.\n",
    "\n",
    "- Trained on balanced and scaled data.\n",
    "\n",
    "- Regularization used to avoid overfitting.\n",
    "\n",
    "2. ### Advanced Model\n",
    "##### Decision Tree Classifier:\n",
    "\n",
    "- Captures non-linear patterns.\n",
    "\n",
    "- Depth tuning applied for generalization.\n",
    "\n",
    "3. ### Ensemble Model\n",
    "##### Random Forest:\n",
    "\n",
    "- Robust to overfitting, handles feature interactions.\n",
    "\n",
    "- Used 100 trees and max depth tuning.\n",
    "\n",
    "Optional models (not implemented):\n",
    "\n",
    "##### k-Nearest Neighbors: \n",
    "- Would require further scaling and tuning.\n",
    "\n",
    "##### SVM:\n",
    "- Could be used, but computationally heavier."
   ]
  },
  {
   "cell_type": "markdown",
   "id": "dd988005",
   "metadata": {},
   "source": [
    "## Evaluation\n",
    "We chose metrics based on SyriaTel’s business needs:\n",
    "\n",
    "- Recall: prioritized due to the high cost of missing a churner.\n",
    "\n",
    "- Precision: useful to avoid wasting retention budget.\n",
    "\n",
    "- F1 Score: used to balance both.\n",
    "\n",
    "- ROC-AUC: shows model performance across thresholds.\n",
    "\n",
    "All metrics were computed on both training and test sets. ROC curves were plotted for comparison.\n",
    "\n"
   ]
  },
  {
   "cell_type": "markdown",
   "id": "fd176015",
   "metadata": {},
   "source": [
    "## Conclusion\n",
    "- Logistic Regression offered strong baseline performance and is easy to explain.\n",
    "\n",
    "- Decision Tree exposed key features like customer service calls and international plan.\n",
    "\n",
    "- Random Forest delivered higher accuracy and AUC by capturing more complex patterns.\n",
    "\n",
    "- Feature importance plots revealed top drivers of churn.\n",
    "\n"
   ]
  },
  {
   "cell_type": "markdown",
   "id": "196c2cc5",
   "metadata": {},
   "source": [
    "## Recommendations\n",
    "- Retention Strategy: Target users with frequent service calls and those with an international plan.\n",
    "\n",
    "- Customer Experience: Investigate and resolve issues flagged in service calls.\n",
    "\n",
    "- Marketing Offers: Design loyalty programs aimed at high-usage users with churn indicators.\n",
    "\n",
    "- Model Deployment: Integrate the best model into CRM systems for real-time churn prediction.\n",
    "\n",
    "- Monitoring: Continuously monitor model drift and retrain quarterly.\n",
    "\n"
   ]
  }
 ],
 "metadata": {
  "kernelspec": {
   "display_name": "learn-env",
   "language": "python",
   "name": "python3"
  },
  "language_info": {
   "name": "python",
   "version": "3.8.5"
  }
 },
 "nbformat": 4,
 "nbformat_minor": 5
}
