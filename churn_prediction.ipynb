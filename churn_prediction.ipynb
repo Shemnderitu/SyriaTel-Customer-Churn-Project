{
 "cells": [
  {
   "cell_type": "markdown",
   "id": "2afab8c5",
   "metadata": {},
   "source": [
    "# SyriaTel Customer Churn Project"
   ]
  },
  {
   "cell_type": "markdown",
   "id": "c9975226",
   "metadata": {},
   "source": [
    "## Overview\n",
    "This project seeks to predict customer churn for SyriaTel using historical usage and customer service data. By leveraging classification models, we aim to detect patterns that distinguish churners from loyal customers. The end goal is to empower the business with proactive strategies to reduce churn and retain high-value customers. The full machine learning lifecycle is followed—from problem framing and data exploration to model development and business recommendations."
   ]
  },
  {
   "cell_type": "markdown",
   "id": "651754eb",
   "metadata": {},
   "source": [
    "## Business Understanding\n",
    "#### Problem statement\n",
    "SyriaTel wants to understand and reduce customer churn. The company needs a way to identify customers who are likely to leave so that appropriate interventions can be applied (e.g. loyalty programs, special offers).\n",
    "#### Stakeholders:\n",
    "- Retention and Marketing Teams: need precise predictions to launch targeted retention campaigns.\n",
    "\n",
    "- Executives: seek KPIs around churn mitigation and revenue protection.\n",
    "#### Success Criteria: \n",
    "- High recall and precision for identifying churners.\n",
    "- Interpretability to ensure actionable strategies.\n",
    "- Practical business recommendations derived from model output."
   ]
  },
  {
   "cell_type": "markdown",
   "id": "5a3505c4",
   "metadata": {},
   "source": [
    "## Data Understanding"
   ]
  },
  {
   "cell_type": "code",
   "execution_count": 104,
   "id": "dbbea725",
   "metadata": {},
   "outputs": [],
   "source": [
    "# 1. Imports relevant libraries\n",
    "import os\n",
    "import pandas as pd\n",
    "import numpy as np\n",
    "import matplotlib.pyplot as plt\n",
    "import seaborn as sns\n",
    "from sklearn.model_selection import train_test_split\n",
    "from sklearn.preprocessing import StandardScaler, LabelEncoder\n",
    "from sklearn.linear_model import LogisticRegression\n",
    "from sklearn.tree import DecisionTreeClassifier\n",
    "from sklearn.ensemble import RandomForestClassifier\n",
    "from sklearn.metrics import classification_report, confusion_matrix, roc_auc_score, roc_curve\n",
    "from imblearn.over_sampling import SMOTE"
   ]
  },
  {
   "cell_type": "code",
   "execution_count": 105,
   "id": "c2b902c2",
   "metadata": {},
   "outputs": [
    {
     "data": {
      "text/html": [
       "<div>\n",
       "<style scoped>\n",
       "    .dataframe tbody tr th:only-of-type {\n",
       "        vertical-align: middle;\n",
       "    }\n",
       "\n",
       "    .dataframe tbody tr th {\n",
       "        vertical-align: top;\n",
       "    }\n",
       "\n",
       "    .dataframe thead th {\n",
       "        text-align: right;\n",
       "    }\n",
       "</style>\n",
       "<table border=\"1\" class=\"dataframe\">\n",
       "  <thead>\n",
       "    <tr style=\"text-align: right;\">\n",
       "      <th></th>\n",
       "      <th>state</th>\n",
       "      <th>account length</th>\n",
       "      <th>area code</th>\n",
       "      <th>phone number</th>\n",
       "      <th>international plan</th>\n",
       "      <th>voice mail plan</th>\n",
       "      <th>number vmail messages</th>\n",
       "      <th>total day minutes</th>\n",
       "      <th>total day calls</th>\n",
       "      <th>total day charge</th>\n",
       "      <th>...</th>\n",
       "      <th>total eve calls</th>\n",
       "      <th>total eve charge</th>\n",
       "      <th>total night minutes</th>\n",
       "      <th>total night calls</th>\n",
       "      <th>total night charge</th>\n",
       "      <th>total intl minutes</th>\n",
       "      <th>total intl calls</th>\n",
       "      <th>total intl charge</th>\n",
       "      <th>customer service calls</th>\n",
       "      <th>churn</th>\n",
       "    </tr>\n",
       "  </thead>\n",
       "  <tbody>\n",
       "    <tr>\n",
       "      <th>0</th>\n",
       "      <td>KS</td>\n",
       "      <td>128</td>\n",
       "      <td>415</td>\n",
       "      <td>382-4657</td>\n",
       "      <td>no</td>\n",
       "      <td>yes</td>\n",
       "      <td>25</td>\n",
       "      <td>265.1</td>\n",
       "      <td>110</td>\n",
       "      <td>45.07</td>\n",
       "      <td>...</td>\n",
       "      <td>99</td>\n",
       "      <td>16.78</td>\n",
       "      <td>244.7</td>\n",
       "      <td>91</td>\n",
       "      <td>11.01</td>\n",
       "      <td>10.0</td>\n",
       "      <td>3</td>\n",
       "      <td>2.70</td>\n",
       "      <td>1</td>\n",
       "      <td>False</td>\n",
       "    </tr>\n",
       "    <tr>\n",
       "      <th>1</th>\n",
       "      <td>OH</td>\n",
       "      <td>107</td>\n",
       "      <td>415</td>\n",
       "      <td>371-7191</td>\n",
       "      <td>no</td>\n",
       "      <td>yes</td>\n",
       "      <td>26</td>\n",
       "      <td>161.6</td>\n",
       "      <td>123</td>\n",
       "      <td>27.47</td>\n",
       "      <td>...</td>\n",
       "      <td>103</td>\n",
       "      <td>16.62</td>\n",
       "      <td>254.4</td>\n",
       "      <td>103</td>\n",
       "      <td>11.45</td>\n",
       "      <td>13.7</td>\n",
       "      <td>3</td>\n",
       "      <td>3.70</td>\n",
       "      <td>1</td>\n",
       "      <td>False</td>\n",
       "    </tr>\n",
       "    <tr>\n",
       "      <th>2</th>\n",
       "      <td>NJ</td>\n",
       "      <td>137</td>\n",
       "      <td>415</td>\n",
       "      <td>358-1921</td>\n",
       "      <td>no</td>\n",
       "      <td>no</td>\n",
       "      <td>0</td>\n",
       "      <td>243.4</td>\n",
       "      <td>114</td>\n",
       "      <td>41.38</td>\n",
       "      <td>...</td>\n",
       "      <td>110</td>\n",
       "      <td>10.30</td>\n",
       "      <td>162.6</td>\n",
       "      <td>104</td>\n",
       "      <td>7.32</td>\n",
       "      <td>12.2</td>\n",
       "      <td>5</td>\n",
       "      <td>3.29</td>\n",
       "      <td>0</td>\n",
       "      <td>False</td>\n",
       "    </tr>\n",
       "    <tr>\n",
       "      <th>3</th>\n",
       "      <td>OH</td>\n",
       "      <td>84</td>\n",
       "      <td>408</td>\n",
       "      <td>375-9999</td>\n",
       "      <td>yes</td>\n",
       "      <td>no</td>\n",
       "      <td>0</td>\n",
       "      <td>299.4</td>\n",
       "      <td>71</td>\n",
       "      <td>50.90</td>\n",
       "      <td>...</td>\n",
       "      <td>88</td>\n",
       "      <td>5.26</td>\n",
       "      <td>196.9</td>\n",
       "      <td>89</td>\n",
       "      <td>8.86</td>\n",
       "      <td>6.6</td>\n",
       "      <td>7</td>\n",
       "      <td>1.78</td>\n",
       "      <td>2</td>\n",
       "      <td>False</td>\n",
       "    </tr>\n",
       "    <tr>\n",
       "      <th>4</th>\n",
       "      <td>OK</td>\n",
       "      <td>75</td>\n",
       "      <td>415</td>\n",
       "      <td>330-6626</td>\n",
       "      <td>yes</td>\n",
       "      <td>no</td>\n",
       "      <td>0</td>\n",
       "      <td>166.7</td>\n",
       "      <td>113</td>\n",
       "      <td>28.34</td>\n",
       "      <td>...</td>\n",
       "      <td>122</td>\n",
       "      <td>12.61</td>\n",
       "      <td>186.9</td>\n",
       "      <td>121</td>\n",
       "      <td>8.41</td>\n",
       "      <td>10.1</td>\n",
       "      <td>3</td>\n",
       "      <td>2.73</td>\n",
       "      <td>3</td>\n",
       "      <td>False</td>\n",
       "    </tr>\n",
       "  </tbody>\n",
       "</table>\n",
       "<p>5 rows × 21 columns</p>\n",
       "</div>"
      ],
      "text/plain": [
       "  state  account length  area code phone number international plan  \\\n",
       "0    KS             128        415     382-4657                 no   \n",
       "1    OH             107        415     371-7191                 no   \n",
       "2    NJ             137        415     358-1921                 no   \n",
       "3    OH              84        408     375-9999                yes   \n",
       "4    OK              75        415     330-6626                yes   \n",
       "\n",
       "  voice mail plan  number vmail messages  total day minutes  total day calls  \\\n",
       "0             yes                     25              265.1              110   \n",
       "1             yes                     26              161.6              123   \n",
       "2              no                      0              243.4              114   \n",
       "3              no                      0              299.4               71   \n",
       "4              no                      0              166.7              113   \n",
       "\n",
       "   total day charge  ...  total eve calls  total eve charge  \\\n",
       "0             45.07  ...               99             16.78   \n",
       "1             27.47  ...              103             16.62   \n",
       "2             41.38  ...              110             10.30   \n",
       "3             50.90  ...               88              5.26   \n",
       "4             28.34  ...              122             12.61   \n",
       "\n",
       "   total night minutes  total night calls  total night charge  \\\n",
       "0                244.7                 91               11.01   \n",
       "1                254.4                103               11.45   \n",
       "2                162.6                104                7.32   \n",
       "3                196.9                 89                8.86   \n",
       "4                186.9                121                8.41   \n",
       "\n",
       "   total intl minutes  total intl calls  total intl charge  \\\n",
       "0                10.0                 3               2.70   \n",
       "1                13.7                 3               3.70   \n",
       "2                12.2                 5               3.29   \n",
       "3                 6.6                 7               1.78   \n",
       "4                10.1                 3               2.73   \n",
       "\n",
       "   customer service calls  churn  \n",
       "0                       1  False  \n",
       "1                       1  False  \n",
       "2                       0  False  \n",
       "3                       2  False  \n",
       "4                       3  False  \n",
       "\n",
       "[5 rows x 21 columns]"
      ]
     },
     "execution_count": 105,
     "metadata": {},
     "output_type": "execute_result"
    }
   ],
   "source": [
    "# 2. Load Data\n",
    "df = pd.read_csv(\"bigml_59c28831336c6604c800002a.csv\")\n",
    "\n",
    "# 3. Display the first few rows of the DataFrame\n",
    "df.head()"
   ]
  },
  {
   "cell_type": "code",
   "execution_count": 106,
   "id": "5cd671e3",
   "metadata": {},
   "outputs": [
    {
     "name": "stdout",
     "output_type": "stream",
     "text": [
      "<class 'pandas.core.frame.DataFrame'>\n",
      "RangeIndex: 3333 entries, 0 to 3332\n",
      "Data columns (total 21 columns):\n",
      " #   Column                  Non-Null Count  Dtype  \n",
      "---  ------                  --------------  -----  \n",
      " 0   state                   3333 non-null   object \n",
      " 1   account length          3333 non-null   int64  \n",
      " 2   area code               3333 non-null   int64  \n",
      " 3   phone number            3333 non-null   object \n",
      " 4   international plan      3333 non-null   object \n",
      " 5   voice mail plan         3333 non-null   object \n",
      " 6   number vmail messages   3333 non-null   int64  \n",
      " 7   total day minutes       3333 non-null   float64\n",
      " 8   total day calls         3333 non-null   int64  \n",
      " 9   total day charge        3333 non-null   float64\n",
      " 10  total eve minutes       3333 non-null   float64\n",
      " 11  total eve calls         3333 non-null   int64  \n",
      " 12  total eve charge        3333 non-null   float64\n",
      " 13  total night minutes     3333 non-null   float64\n",
      " 14  total night calls       3333 non-null   int64  \n",
      " 15  total night charge      3333 non-null   float64\n",
      " 16  total intl minutes      3333 non-null   float64\n",
      " 17  total intl calls        3333 non-null   int64  \n",
      " 18  total intl charge       3333 non-null   float64\n",
      " 19  customer service calls  3333 non-null   int64  \n",
      " 20  churn                   3333 non-null   bool   \n",
      "dtypes: bool(1), float64(8), int64(8), object(4)\n",
      "memory usage: 524.2+ KB\n"
     ]
    }
   ],
   "source": [
    "# 4. Display information about the DataFrame\n",
    "df.info()"
   ]
  },
  {
   "cell_type": "code",
   "execution_count": 107,
   "id": "5d5cd528",
   "metadata": {},
   "outputs": [
    {
     "data": {
      "text/html": [
       "<div>\n",
       "<style scoped>\n",
       "    .dataframe tbody tr th:only-of-type {\n",
       "        vertical-align: middle;\n",
       "    }\n",
       "\n",
       "    .dataframe tbody tr th {\n",
       "        vertical-align: top;\n",
       "    }\n",
       "\n",
       "    .dataframe thead th {\n",
       "        text-align: right;\n",
       "    }\n",
       "</style>\n",
       "<table border=\"1\" class=\"dataframe\">\n",
       "  <thead>\n",
       "    <tr style=\"text-align: right;\">\n",
       "      <th></th>\n",
       "      <th>account length</th>\n",
       "      <th>area code</th>\n",
       "      <th>number vmail messages</th>\n",
       "      <th>total day minutes</th>\n",
       "      <th>total day calls</th>\n",
       "      <th>total day charge</th>\n",
       "      <th>total eve minutes</th>\n",
       "      <th>total eve calls</th>\n",
       "      <th>total eve charge</th>\n",
       "      <th>total night minutes</th>\n",
       "      <th>total night calls</th>\n",
       "      <th>total night charge</th>\n",
       "      <th>total intl minutes</th>\n",
       "      <th>total intl calls</th>\n",
       "      <th>total intl charge</th>\n",
       "      <th>customer service calls</th>\n",
       "    </tr>\n",
       "  </thead>\n",
       "  <tbody>\n",
       "    <tr>\n",
       "      <th>count</th>\n",
       "      <td>3333.000000</td>\n",
       "      <td>3333.000000</td>\n",
       "      <td>3333.000000</td>\n",
       "      <td>3333.000000</td>\n",
       "      <td>3333.000000</td>\n",
       "      <td>3333.000000</td>\n",
       "      <td>3333.000000</td>\n",
       "      <td>3333.000000</td>\n",
       "      <td>3333.000000</td>\n",
       "      <td>3333.000000</td>\n",
       "      <td>3333.000000</td>\n",
       "      <td>3333.000000</td>\n",
       "      <td>3333.000000</td>\n",
       "      <td>3333.000000</td>\n",
       "      <td>3333.000000</td>\n",
       "      <td>3333.000000</td>\n",
       "    </tr>\n",
       "    <tr>\n",
       "      <th>mean</th>\n",
       "      <td>101.064806</td>\n",
       "      <td>437.182418</td>\n",
       "      <td>8.099010</td>\n",
       "      <td>179.775098</td>\n",
       "      <td>100.435644</td>\n",
       "      <td>30.562307</td>\n",
       "      <td>200.980348</td>\n",
       "      <td>100.114311</td>\n",
       "      <td>17.083540</td>\n",
       "      <td>200.872037</td>\n",
       "      <td>100.107711</td>\n",
       "      <td>9.039325</td>\n",
       "      <td>10.237294</td>\n",
       "      <td>4.479448</td>\n",
       "      <td>2.764581</td>\n",
       "      <td>1.562856</td>\n",
       "    </tr>\n",
       "    <tr>\n",
       "      <th>std</th>\n",
       "      <td>39.822106</td>\n",
       "      <td>42.371290</td>\n",
       "      <td>13.688365</td>\n",
       "      <td>54.467389</td>\n",
       "      <td>20.069084</td>\n",
       "      <td>9.259435</td>\n",
       "      <td>50.713844</td>\n",
       "      <td>19.922625</td>\n",
       "      <td>4.310668</td>\n",
       "      <td>50.573847</td>\n",
       "      <td>19.568609</td>\n",
       "      <td>2.275873</td>\n",
       "      <td>2.791840</td>\n",
       "      <td>2.461214</td>\n",
       "      <td>0.753773</td>\n",
       "      <td>1.315491</td>\n",
       "    </tr>\n",
       "    <tr>\n",
       "      <th>min</th>\n",
       "      <td>1.000000</td>\n",
       "      <td>408.000000</td>\n",
       "      <td>0.000000</td>\n",
       "      <td>0.000000</td>\n",
       "      <td>0.000000</td>\n",
       "      <td>0.000000</td>\n",
       "      <td>0.000000</td>\n",
       "      <td>0.000000</td>\n",
       "      <td>0.000000</td>\n",
       "      <td>23.200000</td>\n",
       "      <td>33.000000</td>\n",
       "      <td>1.040000</td>\n",
       "      <td>0.000000</td>\n",
       "      <td>0.000000</td>\n",
       "      <td>0.000000</td>\n",
       "      <td>0.000000</td>\n",
       "    </tr>\n",
       "    <tr>\n",
       "      <th>25%</th>\n",
       "      <td>74.000000</td>\n",
       "      <td>408.000000</td>\n",
       "      <td>0.000000</td>\n",
       "      <td>143.700000</td>\n",
       "      <td>87.000000</td>\n",
       "      <td>24.430000</td>\n",
       "      <td>166.600000</td>\n",
       "      <td>87.000000</td>\n",
       "      <td>14.160000</td>\n",
       "      <td>167.000000</td>\n",
       "      <td>87.000000</td>\n",
       "      <td>7.520000</td>\n",
       "      <td>8.500000</td>\n",
       "      <td>3.000000</td>\n",
       "      <td>2.300000</td>\n",
       "      <td>1.000000</td>\n",
       "    </tr>\n",
       "    <tr>\n",
       "      <th>50%</th>\n",
       "      <td>101.000000</td>\n",
       "      <td>415.000000</td>\n",
       "      <td>0.000000</td>\n",
       "      <td>179.400000</td>\n",
       "      <td>101.000000</td>\n",
       "      <td>30.500000</td>\n",
       "      <td>201.400000</td>\n",
       "      <td>100.000000</td>\n",
       "      <td>17.120000</td>\n",
       "      <td>201.200000</td>\n",
       "      <td>100.000000</td>\n",
       "      <td>9.050000</td>\n",
       "      <td>10.300000</td>\n",
       "      <td>4.000000</td>\n",
       "      <td>2.780000</td>\n",
       "      <td>1.000000</td>\n",
       "    </tr>\n",
       "    <tr>\n",
       "      <th>75%</th>\n",
       "      <td>127.000000</td>\n",
       "      <td>510.000000</td>\n",
       "      <td>20.000000</td>\n",
       "      <td>216.400000</td>\n",
       "      <td>114.000000</td>\n",
       "      <td>36.790000</td>\n",
       "      <td>235.300000</td>\n",
       "      <td>114.000000</td>\n",
       "      <td>20.000000</td>\n",
       "      <td>235.300000</td>\n",
       "      <td>113.000000</td>\n",
       "      <td>10.590000</td>\n",
       "      <td>12.100000</td>\n",
       "      <td>6.000000</td>\n",
       "      <td>3.270000</td>\n",
       "      <td>2.000000</td>\n",
       "    </tr>\n",
       "    <tr>\n",
       "      <th>max</th>\n",
       "      <td>243.000000</td>\n",
       "      <td>510.000000</td>\n",
       "      <td>51.000000</td>\n",
       "      <td>350.800000</td>\n",
       "      <td>165.000000</td>\n",
       "      <td>59.640000</td>\n",
       "      <td>363.700000</td>\n",
       "      <td>170.000000</td>\n",
       "      <td>30.910000</td>\n",
       "      <td>395.000000</td>\n",
       "      <td>175.000000</td>\n",
       "      <td>17.770000</td>\n",
       "      <td>20.000000</td>\n",
       "      <td>20.000000</td>\n",
       "      <td>5.400000</td>\n",
       "      <td>9.000000</td>\n",
       "    </tr>\n",
       "  </tbody>\n",
       "</table>\n",
       "</div>"
      ],
      "text/plain": [
       "       account length    area code  number vmail messages  total day minutes  \\\n",
       "count     3333.000000  3333.000000            3333.000000        3333.000000   \n",
       "mean       101.064806   437.182418               8.099010         179.775098   \n",
       "std         39.822106    42.371290              13.688365          54.467389   \n",
       "min          1.000000   408.000000               0.000000           0.000000   \n",
       "25%         74.000000   408.000000               0.000000         143.700000   \n",
       "50%        101.000000   415.000000               0.000000         179.400000   \n",
       "75%        127.000000   510.000000              20.000000         216.400000   \n",
       "max        243.000000   510.000000              51.000000         350.800000   \n",
       "\n",
       "       total day calls  total day charge  total eve minutes  total eve calls  \\\n",
       "count      3333.000000       3333.000000        3333.000000      3333.000000   \n",
       "mean        100.435644         30.562307         200.980348       100.114311   \n",
       "std          20.069084          9.259435          50.713844        19.922625   \n",
       "min           0.000000          0.000000           0.000000         0.000000   \n",
       "25%          87.000000         24.430000         166.600000        87.000000   \n",
       "50%         101.000000         30.500000         201.400000       100.000000   \n",
       "75%         114.000000         36.790000         235.300000       114.000000   \n",
       "max         165.000000         59.640000         363.700000       170.000000   \n",
       "\n",
       "       total eve charge  total night minutes  total night calls  \\\n",
       "count       3333.000000          3333.000000        3333.000000   \n",
       "mean          17.083540           200.872037         100.107711   \n",
       "std            4.310668            50.573847          19.568609   \n",
       "min            0.000000            23.200000          33.000000   \n",
       "25%           14.160000           167.000000          87.000000   \n",
       "50%           17.120000           201.200000         100.000000   \n",
       "75%           20.000000           235.300000         113.000000   \n",
       "max           30.910000           395.000000         175.000000   \n",
       "\n",
       "       total night charge  total intl minutes  total intl calls  \\\n",
       "count         3333.000000         3333.000000       3333.000000   \n",
       "mean             9.039325           10.237294          4.479448   \n",
       "std              2.275873            2.791840          2.461214   \n",
       "min              1.040000            0.000000          0.000000   \n",
       "25%              7.520000            8.500000          3.000000   \n",
       "50%              9.050000           10.300000          4.000000   \n",
       "75%             10.590000           12.100000          6.000000   \n",
       "max             17.770000           20.000000         20.000000   \n",
       "\n",
       "       total intl charge  customer service calls  \n",
       "count        3333.000000             3333.000000  \n",
       "mean            2.764581                1.562856  \n",
       "std             0.753773                1.315491  \n",
       "min             0.000000                0.000000  \n",
       "25%             2.300000                1.000000  \n",
       "50%             2.780000                1.000000  \n",
       "75%             3.270000                2.000000  \n",
       "max             5.400000                9.000000  "
      ]
     },
     "execution_count": 107,
     "metadata": {},
     "output_type": "execute_result"
    }
   ],
   "source": [
    "# 5. Display summary statistics of the DataFrame\n",
    "df.describe()"
   ]
  },
  {
   "cell_type": "code",
   "execution_count": 108,
   "id": "01cf4b17",
   "metadata": {},
   "outputs": [
    {
     "data": {
      "text/plain": [
       "(3333, 21)"
      ]
     },
     "execution_count": 108,
     "metadata": {},
     "output_type": "execute_result"
    }
   ],
   "source": [
    "# 6. Display the shape of the DataFrame\n",
    "df.shape"
   ]
  },
  {
   "cell_type": "markdown",
   "id": "a2439f4e",
   "metadata": {},
   "source": [
    "The dataset includes 3,333 customers with features such as:\n",
    "\n",
    "- Demographics: state, area code\n",
    "\n",
    "- Service details: international plan, voice mail plan\n",
    "\n",
    "- Usage metrics: daily, evening, night, and international minutes, calls, and charges\n",
    "\n",
    "- Support history: number of customer service calls\n",
    "\n",
    "- Target variable: churn (binary)\n",
    "\n",
    "#### Initial Observations:\n",
    "\n",
    "- Class imbalance: Majority class is non-churners (~86%)\n",
    "\n",
    "- Potential multicollinearity: minutes and charges are highly correlated\n",
    "\n",
    "- Some features (e.g. phone number) are identifiers and not predictive\n",
    "\n"
   ]
  },
  {
   "cell_type": "markdown",
   "id": "9bfc2f8d",
   "metadata": {},
   "source": [
    "## Data Preprocessing"
   ]
  },
  {
   "cell_type": "markdown",
   "id": "65b7d99f",
   "metadata": {},
   "source": [
    "### Data Cleaning\n",
    "Data cleaning will involve dropping irrelevant columns, checking for duplicates and missing values and if duplicates or missing values are present in the data, action will be taken and also converting datatypes wherever necessary."
   ]
  },
  {
   "cell_type": "code",
   "execution_count": 109,
   "id": "957d8007",
   "metadata": {},
   "outputs": [],
   "source": [
    "# 7. Drop irrelevant columns\n",
    "df = df.drop([\"phone number\", \"area code\"], axis=1)"
   ]
  },
  {
   "cell_type": "code",
   "execution_count": 110,
   "id": "d0df39fa",
   "metadata": {},
   "outputs": [
    {
     "name": "stdout",
     "output_type": "stream",
     "text": [
      "Number of duplicate rows: 0\n"
     ]
    }
   ],
   "source": [
    "# 8. Check for duplicates\n",
    "duplicates = df.duplicated().sum()\n",
    "print(\"Number of duplicate rows:\", duplicates)\n"
   ]
  },
  {
   "cell_type": "markdown",
   "id": "8cdcf1a3",
   "metadata": {},
   "source": [
    "There are no duplicated rows in the data."
   ]
  },
  {
   "cell_type": "code",
   "execution_count": 111,
   "id": "8e337103",
   "metadata": {},
   "outputs": [
    {
     "name": "stdout",
     "output_type": "stream",
     "text": [
      "Missing values in each column:\n",
      " state                     0\n",
      "account length            0\n",
      "international plan        0\n",
      "voice mail plan           0\n",
      "number vmail messages     0\n",
      "total day minutes         0\n",
      "total day calls           0\n",
      "total day charge          0\n",
      "total eve minutes         0\n",
      "total eve calls           0\n",
      "total eve charge          0\n",
      "total night minutes       0\n",
      "total night calls         0\n",
      "total night charge        0\n",
      "total intl minutes        0\n",
      "total intl calls          0\n",
      "total intl charge         0\n",
      "customer service calls    0\n",
      "churn                     0\n",
      "dtype: int64\n"
     ]
    }
   ],
   "source": [
    "# 9. Check for missing values\n",
    "missing_values = df.isnull().sum()\n",
    "print(\"Missing values in each column:\\n\", missing_values)"
   ]
  },
  {
   "cell_type": "markdown",
   "id": "fa9f8643",
   "metadata": {},
   "source": [
    "There are no missing values in the data."
   ]
  },
  {
   "cell_type": "code",
   "execution_count": 112,
   "id": "dbbedc84",
   "metadata": {},
   "outputs": [],
   "source": [
    "# 10. Encode categorical variables\n",
    "binary_cols = [\"international plan\", \"voice mail plan\"]\n",
    "for col in binary_cols:\n",
    "    df[col] = df[col].map({'no': 0, 'yes': 1})\n",
    "\n",
    "# Encode state with LabelEncoder\n",
    "le = LabelEncoder()\n",
    "df[\"state\"] = le.fit_transform(df[\"state\"])\n",
    "\n",
    "# 11. Convert boolean to integer\n",
    "#df['churn'] = df['churn'].astype(int)\n",
    "\n",
    "# 12. Separate target variable and features\n",
    "X = df.drop(\"churn\", axis=1)\n",
    "y = df[\"churn\"]"
   ]
  },
  {
   "cell_type": "markdown",
   "id": "75fdcf6e",
   "metadata": {},
   "source": [
    "\n",
    "#### Steps Taken:\n",
    "1. Cleaning:\n",
    "\n",
    "- Dropped phone number and area code as they have no predictive values.\n",
    "\n",
    "- Checked and confirmed no duplicates or missing values.\n",
    "\n",
    "2. Encoding:\n",
    "\n",
    "- Binary features like international plan and voice mail plan are encoded into 0/1.\n",
    "\n",
    "- The state column is label-encoded to numeric form.\n",
    "\n",
    "3. Separate target and features:\n",
    "- Separated the target variable, churn, from features.\n",
    "- Converted churn variable from boolean to integer data type."
   ]
  },
  {
   "cell_type": "markdown",
   "id": "6daaaf6c",
   "metadata": {},
   "source": [
    "### Exploratory Data Analysis"
   ]
  },
  {
   "cell_type": "markdown",
   "id": "3554d405",
   "metadata": {},
   "source": [
    "#### Univariate Analysis"
   ]
  },
  {
   "cell_type": "markdown",
   "id": "49e44cb8",
   "metadata": {},
   "source": [
    "##### 1. Categorical Feature Distribution\n",
    "\n",
    "We'll start by visualizing the distribution of key categorical features using pie charts for a more visual representation of proportions."
   ]
  },
  {
   "cell_type": "code",
   "execution_count": 113,
   "id": "28f6ddcf",
   "metadata": {},
   "outputs": [
    {
     "data": {
      "image/png": "[encoded data removed]",
      "text/plain": [
       "<Figure size 1296x360 with 3 Axes>"
      ]
     },
     "metadata": {},
     "output_type": "display_data"
    }
   ],
   "source": [
    "cat_features = ['international plan', 'voice mail plan', 'churn']\n",
    "\n",
    "fig, axes = plt.subplots(1, 3, figsize=(18, 5))\n",
    "\n",
    "for i, col in enumerate(cat_features):\n",
    "    proportions = df[col].value_counts(normalize=True)\n",
    "    labels = proportions.index.map(str)\n",
    "    axes[i].pie(proportions, labels=labels, autopct='%1.1f%%', startangle=90, colors = [\"#fc6aba\",\"#4899eb\"])\n",
    "    axes[i].set_title(f'{col.title()} Distribution', fontsize=14, fontweight='bold', color='white')\n",
    "\n",
    "plt.legend(loc= 'upper right', fontsize=12)\n",
    "plt.suptitle('Categorical Feature Distribution', fontsize=16, fontweight='bold', color='white')\n",
    "plt.subplots_adjust(top=0.85)\n",
    "plt.tight_layout()\n",
    "plt.show()"
   ]
  },
  {
   "cell_type": "markdown",
   "id": "b89bcfff",
   "metadata": {},
   "source": [
    "##### Observations:\n",
    "- Most customers do not subscribe to the international or voicemail plan.\n",
    "\n",
    "- Churned customers represent a small minority, confirming a class imbalance issue."
   ]
  },
  {
   "cell_type": "markdown",
   "id": "729643b0",
   "metadata": {},
   "source": [
    "##### 2. Numerical Feature Distribution\n",
    "\n",
    "We’ll explore numerical features using ridge plots for more layered insight into their distributions."
   ]
  },
  {
   "cell_type": "code",
   "execution_count": 120,
   "id": "e0a88305",
   "metadata": {},
   "outputs": [
    {
     "data": {
      "image/png": "[encoded data removed]",
      "text/plain": [
       "<Figure size 720x864 with 1 Axes>"
      ]
     },
     "metadata": {
      "needs_background": "light"
     },
     "output_type": "display_data"
    }
   ],
   "source": [
    "\n",
    "# Exclude some non-numeric columns and target\n",
    "num_columns = df.drop(columns=['phone number', 'state', 'churn', 'international plan', 'voice mail plan'], errors='ignore').select_dtypes(include=['int64', 'float64']).columns\n",
    "\n",
    "# Create a melt DataFrame for seaborn\n",
    "df_melted = df[num_columns].melt(var_name='Feature', value_name='Value')\n",
    "\n",
    "plt.figure(figsize=(10, 12))\n",
    "sns.violinplot(data=df_melted, x='Value', y='Feature', palette='Spectral', scale='width', inner='quartile')\n",
    "plt.title('Distribution of Numerical Features')\n",
    "plt.tight_layout()\n",
    "plt.show()\n"
   ]
  },
  {
   "cell_type": "markdown",
   "id": "b7862a41",
   "metadata": {},
   "source": [
    "##### Observations:\n",
    "- Account length is symmetrically distributed, suggesting a stable average customer lifespan.\n",
    "\n",
    "- Voicemail messages are mostly zero, highlighting limited use.\n",
    "\n",
    "- Distributions of minute and charge-based features are quite similar and normally shaped.\n",
    "\n",
    "- Customer service calls show a right-skew with a few customers calling frequently—a potential churn signal."
   ]
  },
  {
   "cell_type": "code",
   "execution_count": 114,
   "id": "2e93ee10",
   "metadata": {},
   "outputs": [],
   "source": [
    "\n",
    "# Train-test split\n",
    "X_train, X_test, y_train, y_test = train_test_split(X, y, test_size=0.2, random_state=42, stratify=y)\n",
    "\n",
    "# Handle class imbalance with SMOTE\n",
    "smote = SMOTE(random_state=42)\n",
    "X_train_bal, y_train_bal = smote.fit_resample(X_train, y_train)\n",
    "\n",
    "# Feature scaling\n",
    "scaler = StandardScaler()\n",
    "X_train_scaled = scaler.fit_transform(X_train_bal)\n",
    "X_test_scaled = scaler.transform(X_test)"
   ]
  },
  {
   "cell_type": "markdown",
   "id": "737ffa74",
   "metadata": {},
   "source": [
    "3. Feature Engineering & Multicollinearity Check:\n",
    "\n",
    "- Decided to retain either minutes or charges columns (not both).\n",
    "\n",
    "- Considered aggregating call counts and charges into summaries.\n",
    "\n",
    "4. Class Imbalance Handling:\n",
    "\n",
    "- Used SMOTE to balance the training dataset.\n",
    "\n",
    "5. Scaling:\n",
    "\n",
    "- Applied StandardScaler for algorithms sensitive to magnitude (e.g., Logistic Regression, SVM)."
   ]
  },
  {
   "cell_type": "markdown",
   "id": "2ce9acc5",
   "metadata": {},
   "source": [
    "## Modeling\n",
    "Models used were selected for both performance and interpretability:"
   ]
  },
  {
   "cell_type": "markdown",
   "id": "42b4d6f5",
   "metadata": {},
   "source": [
    "1. ### Baseline Model\n",
    "##### Logistic Regression:\n",
    "\n",
    "- Simple, interpretable.\n",
    "\n",
    "- Trained on balanced and scaled data.\n",
    "\n",
    "- Regularization used to avoid overfitting."
   ]
  },
  {
   "cell_type": "code",
   "execution_count": 115,
   "id": "cda4b2b6",
   "metadata": {},
   "outputs": [
    {
     "name": "stdout",
     "output_type": "stream",
     "text": [
      "\n",
      "Logistic Regression Classification Report:\n",
      "              precision    recall  f1-score   support\n",
      "\n",
      "       False       0.93      0.71      0.80       570\n",
      "        True       0.28      0.68      0.40        97\n",
      "\n",
      "    accuracy                           0.70       667\n",
      "   macro avg       0.61      0.69      0.60       667\n",
      "weighted avg       0.84      0.70      0.75       667\n",
      "\n",
      "ROC AUC Score: 0.7700307469705191\n"
     ]
    }
   ],
   "source": [
    "# 5. Baseline Model - Logistic Regression\n",
    "\n",
    "# Fit the model on the balanced and scaled training data\n",
    "lr = LogisticRegression(random_state=42)\n",
    "lr.fit(X_train_scaled, y_train_bal)\n",
    "\n",
    "# Predict probabilities for the test set (scaled)\n",
    "y_proba_lr = lr.predict_proba(X_test_scaled)[:, 1]\n",
    "\n",
    "# Predict classes if you want a classification report (optional)\n",
    "y_pred_lr = lr.predict(X_test_scaled)\n",
    "\n",
    "# Print classification report (optional)\n",
    "print(\"\\nLogistic Regression Classification Report:\")\n",
    "print(classification_report(y_test, y_pred_lr))\n",
    "print(\"ROC AUC Score:\", roc_auc_score(y_test, y_proba_lr))"
   ]
  },
  {
   "cell_type": "markdown",
   "id": "cd99b2d3",
   "metadata": {},
   "source": [
    "2. ### Advanced Model\n",
    "##### Decision Tree Classifier:\n",
    "\n",
    "- Captures non-linear patterns.\n",
    "\n",
    "- Depth tuning applied for generalization."
   ]
  },
  {
   "cell_type": "code",
   "execution_count": 116,
   "id": "ff911a6a",
   "metadata": {},
   "outputs": [
    {
     "name": "stdout",
     "output_type": "stream",
     "text": [
      "\n",
      "Decision Tree Classification Report:\n",
      "              precision    recall  f1-score   support\n",
      "\n",
      "       False       0.94      0.88      0.91       570\n",
      "        True       0.48      0.67      0.56        97\n",
      "\n",
      "    accuracy                           0.85       667\n",
      "   macro avg       0.71      0.77      0.73       667\n",
      "weighted avg       0.87      0.85      0.86       667\n",
      "\n",
      "ROC AUC Score: 0.8063031289564117\n"
     ]
    }
   ],
   "source": [
    "# 6. Advanced Model - Decision Tree with Hyperparameter Tuning\n",
    "dt = DecisionTreeClassifier(max_depth=5, random_state=42)\n",
    "dt.fit(X_train_bal, y_train_bal)\n",
    "y_pred_dt = dt.predict(X_test)\n",
    "y_proba_dt = dt.predict_proba(X_test)[:, 1]\n",
    "\n",
    "print(\"\\nDecision Tree Classification Report:\")\n",
    "print(classification_report(y_test, y_pred_dt))\n",
    "print(\"ROC AUC Score:\", roc_auc_score(y_test, y_proba_dt))\n"
   ]
  },
  {
   "cell_type": "markdown",
   "id": "16bf338d",
   "metadata": {},
   "source": [
    "3. ### Ensemble Model\n",
    "##### Random Forest:\n",
    "\n",
    "- Robust to overfitting, handles feature interactions.\n",
    "\n",
    "- Used 100 trees and max depth tuning.\n",
    "\n",
    "Optional models (not implemented):\n",
    "\n",
    "##### k-Nearest Neighbors: \n",
    "- Would require further scaling and tuning.\n",
    "\n",
    "##### SVM:\n",
    "- Could be used, but computationally heavier."
   ]
  },
  {
   "cell_type": "code",
   "execution_count": 117,
   "id": "f2b4557d",
   "metadata": {},
   "outputs": [
    {
     "name": "stdout",
     "output_type": "stream",
     "text": [
      "\n",
      "Random Forest Classification Report:\n",
      "              precision    recall  f1-score   support\n",
      "\n",
      "       False       0.94      0.93      0.94       570\n",
      "        True       0.62      0.65      0.63        97\n",
      "\n",
      "    accuracy                           0.89       667\n",
      "   macro avg       0.78      0.79      0.78       667\n",
      "weighted avg       0.89      0.89      0.89       667\n",
      "\n",
      "ROC AUC Score: 0.8338216675709894\n"
     ]
    }
   ],
   "source": [
    "# 7. Additional Model - Random Forest\n",
    "rf = RandomForestClassifier(n_estimators=100, max_depth=7, random_state=42)\n",
    "rf.fit(X_train_bal, y_train_bal)\n",
    "y_pred_rf = rf.predict(X_test)\n",
    "y_proba_rf = rf.predict_proba(X_test)[:, 1]\n",
    "\n",
    "print(\"\\nRandom Forest Classification Report:\")\n",
    "print(classification_report(y_test, y_pred_rf))\n",
    "print(\"ROC AUC Score:\", roc_auc_score(y_test, y_proba_rf))\n"
   ]
  },
  {
   "cell_type": "markdown",
   "id": "dd988005",
   "metadata": {},
   "source": [
    "## Evaluation\n",
    "We chose metrics based on SyriaTel’s business needs:\n",
    "\n",
    "- Recall: prioritized due to the high cost of missing a churner.\n",
    "\n",
    "- Precision: useful to avoid wasting retention budget.\n",
    "\n",
    "- F1 Score: used to balance both.\n",
    "\n",
    "- ROC-AUC: shows model performance across thresholds.\n",
    "\n",
    "All metrics were computed on both training and test sets. ROC curves were plotted for comparison.\n",
    "\n"
   ]
  },
  {
   "cell_type": "code",
   "execution_count": 118,
   "id": "303e1e55",
   "metadata": {},
   "outputs": [
    {
     "data": {
      "image/png": "[encoded data removed]",
      "text/plain": [
       "<Figure size 720x432 with 1 Axes>"
      ]
     },
     "metadata": {
      "needs_background": "light"
     },
     "output_type": "display_data"
    }
   ],
   "source": [
    "# 8. Feature Importance\n",
    "importances = dt.feature_importances_\n",
    "features = X.columns\n",
    "feat_imp = pd.Series(importances, index=features).sort_values(ascending=False)\n",
    "\n",
    "plt.figure(figsize=(10, 6))\n",
    "feat_imp.plot(kind=\"bar\")\n",
    "plt.title(\"Feature Importance - Decision Tree\")\n",
    "plt.tight_layout()\n",
    "plt.show()"
   ]
  },
  {
   "cell_type": "code",
   "execution_count": 119,
   "id": "6bb9d2de",
   "metadata": {},
   "outputs": [
    {
     "data": {
      "image/png": "[encoded data removed]",
      "text/plain": [
       "<Figure size 576x432 with 1 Axes>"
      ]
     },
     "metadata": {
      "needs_background": "light"
     },
     "output_type": "display_data"
    }
   ],
   "source": [
    "# 9. ROC Curves\n",
    "fpr_lr, tpr_lr, _ = roc_curve(y_test, y_proba_lr)\n",
    "fpr_dt, tpr_dt, _ = roc_curve(y_test, y_proba_dt)\n",
    "fpr_rf, tpr_rf, _ = roc_curve(y_test, y_proba_rf)\n",
    "\n",
    "plt.figure(figsize=(8,6))\n",
    "plt.plot(fpr_lr, tpr_lr, label=\"Logistic Regression\")\n",
    "plt.plot(fpr_dt, tpr_dt, label=\"Decision Tree\")\n",
    "plt.plot(fpr_rf, tpr_rf, label=\"Random Forest\")\n",
    "plt.plot([0,1], [0,1], 'k--')\n",
    "plt.xlabel(\"False Positive Rate\")\n",
    "plt.ylabel(\"True Positive Rate\")\n",
    "plt.title(\"ROC Curves\")\n",
    "plt.legend()\n",
    "plt.grid()\n",
    "plt.show()"
   ]
  },
  {
   "cell_type": "markdown",
   "id": "fd176015",
   "metadata": {},
   "source": [
    "## Conclusion\n",
    "- Logistic Regression offered strong baseline performance and is easy to explain.\n",
    "\n",
    "- Decision Tree exposed key features like customer service calls and international plan.\n",
    "\n",
    "- Random Forest delivered higher accuracy and AUC by capturing more complex patterns.\n",
    "\n",
    "- Feature importance plots revealed top drivers of churn.\n",
    "\n"
   ]
  },
  {
   "cell_type": "markdown",
   "id": "196c2cc5",
   "metadata": {},
   "source": [
    "## Recommendations\n",
    "- Retention Strategy: Target users with frequent service calls and those with an international plan.\n",
    "\n",
    "- Customer Experience: Investigate and resolve issues flagged in service calls.\n",
    "\n",
    "- Marketing Offers: Design loyalty programs aimed at high-usage users with churn indicators.\n",
    "\n",
    "- Model Deployment: Integrate the best model into CRM systems for real-time churn prediction.\n",
    "\n",
    "- Monitoring: Continuously monitor model drift and retrain quarterly.\n",
    "\n"
   ]
  }
 ],
 "metadata": {
  "kernelspec": {
   "display_name": "learn-env",
   "language": "python",
   "name": "python3"
  },
  "language_info": {
   "codemirror_mode": {
    "name": "ipython",
    "version": 3
   },
   "file_extension": ".py",
   "mimetype": "text/x-python",
   "name": "python",
   "nbconvert_exporter": "python",
   "pygments_lexer": "ipython3",
   "version": "3.8.5"
  }
 },
 "nbformat": 4,
 "nbformat_minor": 5
}
