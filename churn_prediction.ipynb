{
 "cells": [
  {
   "cell_type": "markdown",
   "id": "2afab8c5",
   "metadata": {},
   "source": [
    "# SyriaTel Customer Churn Project"
   ]
  },
  {
   "cell_type": "markdown",
   "id": "c9975226",
   "metadata": {},
   "source": [
    "## Overview\n",
    "This project seeks to predict customer churn for SyriaTel using historical usage and customer service data. By leveraging classification models, we aim to detect patterns that distinguish churners from loyal customers. The end goal is to empower the business with proactive strategies to reduce churn and retain high-value customers. The full machine learning lifecycle is followed—from problem framing and data exploration to model development and business recommendations."
   ]
  },
  {
   "cell_type": "markdown",
   "id": "651754eb",
   "metadata": {},
   "source": [
    "## Business Understanding\n",
    "#### Problem statement\n",
    "SyriaTel wants to understand and reduce customer churn. The company needs a way to identify customers who are likely to leave so that appropriate interventions can be applied (e.g. loyalty programs, special offers).\n",
    "#### Stakeholders:\n",
    "- Retention and Marketing Teams: need precise predictions to launch targeted retention campaigns.\n",
    "\n",
    "- Executives: seek KPIs around churn mitigation and revenue protection.\n",
    "#### Success Criteria: \n",
    "- High recall and precision for identifying churners.\n",
    "- Interpretability to ensure actionable strategies.\n",
    "- Practical business recommendations derived from model output."
   ]
  }
 ],
 "metadata": {
  "kernelspec": {
   "display_name": "learn-env",
   "language": "python",
   "name": "python3"
  },
  "language_info": {
   "name": "python",
   "version": "3.8.5"
  }
 },
 "nbformat": 4,
 "nbformat_minor": 5
}
